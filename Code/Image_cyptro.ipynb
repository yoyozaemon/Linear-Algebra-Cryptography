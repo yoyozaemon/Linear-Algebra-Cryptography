{
  "cells": [
    {
      "cell_type": "code",
      "execution_count": 1,
      "metadata": {
        "colab": {
          "base_uri": "https://localhost:8080/"
        },
        "id": "ts0QfzBPPNY3",
        "outputId": "13e9f7e3-c53f-4c00-d037-7d24c8f7c6fe"
      },
      "outputs": [
        {
          "output_type": "stream",
          "name": "stdout",
          "text": [
            "Requirement already satisfied: numpy in /usr/local/lib/python3.7/dist-packages (1.21.6)\n"
          ]
        }
      ],
      "source": [
        "pip install numpy"
      ]
    },
    {
      "cell_type": "code",
      "execution_count": 2,
      "metadata": {
        "id": "FCRebheSPhzC",
        "colab": {
          "base_uri": "https://localhost:8080/"
        },
        "outputId": "3d089d51-027f-4627-cfda-61442f6e42a9"
      },
      "outputs": [
        {
          "output_type": "stream",
          "name": "stdout",
          "text": [
            "Collecting display\n",
            "  Downloading display-1.0.0.tar.gz (687 bytes)\n",
            "Building wheels for collected packages: display\n",
            "  Building wheel for display (setup.py) ... \u001b[?25l\u001b[?25hdone\n",
            "  Created wheel for display: filename=display-1.0.0-py3-none-any.whl size=1405 sha256=27c0de6cf8d0f3bf22a0e0420ac94308a03bf1f8115e65df9bc81799ae72d742\n",
            "  Stored in directory: /root/.cache/pip/wheels/28/ec/cc/8f044b2a2dd8b45ccfc45317e7e9aa4e544e6c0b2a737330ae\n",
            "Successfully built display\n",
            "Installing collected packages: display\n",
            "Successfully installed display-1.0.0\n"
          ]
        }
      ],
      "source": [
        "pip install display"
      ]
    },
    {
      "cell_type": "code",
      "execution_count": 3,
      "metadata": {
        "colab": {
          "base_uri": "https://localhost:8080/"
        },
        "id": "MUykKCT-Pl5d",
        "outputId": "640e7c29-a3ad-496b-fd8d-57d0879b8c90"
      },
      "outputs": [
        {
          "output_type": "stream",
          "name": "stdout",
          "text": [
            "Collecting Image\n",
            "  Downloading image-1.5.33.tar.gz (15 kB)\n",
            "Requirement already satisfied: pillow in /usr/local/lib/python3.7/dist-packages (from Image) (7.1.2)\n",
            "Collecting django\n",
            "  Downloading Django-3.2.13-py3-none-any.whl (7.9 MB)\n",
            "\u001b[K     |████████████████████████████████| 7.9 MB 5.2 MB/s \n",
            "\u001b[?25hRequirement already satisfied: six in /usr/local/lib/python3.7/dist-packages (from Image) (1.15.0)\n",
            "Requirement already satisfied: sqlparse>=0.2.2 in /usr/local/lib/python3.7/dist-packages (from django->Image) (0.4.2)\n",
            "Requirement already satisfied: pytz in /usr/local/lib/python3.7/dist-packages (from django->Image) (2022.1)\n",
            "Collecting asgiref<4,>=3.3.2\n",
            "  Downloading asgiref-3.5.1-py3-none-any.whl (22 kB)\n",
            "Requirement already satisfied: typing-extensions in /usr/local/lib/python3.7/dist-packages (from asgiref<4,>=3.3.2->django->Image) (4.2.0)\n",
            "Building wheels for collected packages: Image\n",
            "  Building wheel for Image (setup.py) ... \u001b[?25l\u001b[?25hdone\n",
            "  Created wheel for Image: filename=image-1.5.33-py2.py3-none-any.whl size=19496 sha256=c19bddeef6d0eecc8cfa74d8fc80d9193eafedb0e7738447052bbc5f08fea1e0\n",
            "  Stored in directory: /root/.cache/pip/wheels/56/88/e6/897194cfe8c08a8b9afd881d3bf53d102e13fa39607d721383\n",
            "Successfully built Image\n",
            "Installing collected packages: asgiref, django, Image\n",
            "Successfully installed Image-1.5.33 asgiref-3.5.1 django-3.2.13\n"
          ]
        }
      ],
      "source": [
        "pip install Image"
      ]
    },
    {
      "cell_type": "code",
      "execution_count": 4,
      "metadata": {
        "colab": {
          "base_uri": "https://localhost:8080/",
          "height": 373
        },
        "id": "oQJySPYjPo4G",
        "outputId": "3a26393f-aa56-41ba-df56-7fd199aafdb1"
      },
      "outputs": [
        {
          "output_type": "error",
          "ename": "FileNotFoundError",
          "evalue": "ignored",
          "traceback": [
            "\u001b[0;31m---------------------------------------------------------------------------\u001b[0m",
            "\u001b[0;31mFileNotFoundError\u001b[0m                         Traceback (most recent call last)",
            "\u001b[0;32m<ipython-input-4-5f15c1de34b9>\u001b[0m in \u001b[0;36m<module>\u001b[0;34m()\u001b[0m\n\u001b[1;32m      8\u001b[0m \u001b[0;31m#reading the image into a 3d array\u001b[0m\u001b[0;34m\u001b[0m\u001b[0;34m\u001b[0m\u001b[0;34m\u001b[0m\u001b[0m\n\u001b[1;32m      9\u001b[0m \u001b[0;31m#ROW (height) x COLUMN(Width) x COLORS(3)\u001b[0m\u001b[0;34m\u001b[0m\u001b[0;34m\u001b[0m\u001b[0;34m\u001b[0m\u001b[0m\n\u001b[0;32m---> 10\u001b[0;31m \u001b[0msrc_image\u001b[0m \u001b[0;34m=\u001b[0m \u001b[0mnp\u001b[0m\u001b[0;34m.\u001b[0m\u001b[0marray\u001b[0m\u001b[0;34m(\u001b[0m\u001b[0mImage\u001b[0m\u001b[0;34m.\u001b[0m\u001b[0mopen\u001b[0m\u001b[0;34m(\u001b[0m\u001b[0;34m'Image_to_be_encrypted.png'\u001b[0m\u001b[0;34m)\u001b[0m\u001b[0;34m.\u001b[0m\u001b[0mconvert\u001b[0m\u001b[0;34m(\u001b[0m\u001b[0;34m\"RGB\"\u001b[0m\u001b[0;34m)\u001b[0m\u001b[0;34m)\u001b[0m\u001b[0;34m\u001b[0m\u001b[0;34m\u001b[0m\u001b[0m\n\u001b[0m\u001b[1;32m     11\u001b[0m \u001b[0mwidth\u001b[0m\u001b[0;34m=\u001b[0m\u001b[0msrc_image\u001b[0m\u001b[0;34m.\u001b[0m\u001b[0mshape\u001b[0m\u001b[0;34m[\u001b[0m\u001b[0;36m1\u001b[0m\u001b[0;34m]\u001b[0m\u001b[0;34m\u001b[0m\u001b[0;34m\u001b[0m\u001b[0m\n\u001b[1;32m     12\u001b[0m \u001b[0mheight\u001b[0m\u001b[0;34m=\u001b[0m\u001b[0msrc_image\u001b[0m\u001b[0;34m.\u001b[0m\u001b[0mshape\u001b[0m\u001b[0;34m[\u001b[0m\u001b[0;36m0\u001b[0m\u001b[0;34m]\u001b[0m\u001b[0;34m\u001b[0m\u001b[0;34m\u001b[0m\u001b[0m\n",
            "\u001b[0;32m/usr/local/lib/python3.7/dist-packages/PIL/Image.py\u001b[0m in \u001b[0;36mopen\u001b[0;34m(fp, mode)\u001b[0m\n\u001b[1;32m   2841\u001b[0m \u001b[0;34m\u001b[0m\u001b[0m\n\u001b[1;32m   2842\u001b[0m     \u001b[0;32mif\u001b[0m \u001b[0mfilename\u001b[0m\u001b[0;34m:\u001b[0m\u001b[0;34m\u001b[0m\u001b[0;34m\u001b[0m\u001b[0m\n\u001b[0;32m-> 2843\u001b[0;31m         \u001b[0mfp\u001b[0m \u001b[0;34m=\u001b[0m \u001b[0mbuiltins\u001b[0m\u001b[0;34m.\u001b[0m\u001b[0mopen\u001b[0m\u001b[0;34m(\u001b[0m\u001b[0mfilename\u001b[0m\u001b[0;34m,\u001b[0m \u001b[0;34m\"rb\"\u001b[0m\u001b[0;34m)\u001b[0m\u001b[0;34m\u001b[0m\u001b[0;34m\u001b[0m\u001b[0m\n\u001b[0m\u001b[1;32m   2844\u001b[0m         \u001b[0mexclusive_fp\u001b[0m \u001b[0;34m=\u001b[0m \u001b[0;32mTrue\u001b[0m\u001b[0;34m\u001b[0m\u001b[0;34m\u001b[0m\u001b[0m\n\u001b[1;32m   2845\u001b[0m \u001b[0;34m\u001b[0m\u001b[0m\n",
            "\u001b[0;31mFileNotFoundError\u001b[0m: [Errno 2] No such file or directory: 'Image_to_be_encrypted.png'"
          ]
        }
      ],
      "source": [
        "from PIL import Image\n",
        "import numpy as np\n",
        "import math\n",
        "from IPython.display import display\n",
        "import time\n",
        "\n",
        "\n",
        "#reading the image into a 3d array \n",
        "#ROW (height) x COLUMN(Width) x COLORS(3)\n",
        "src_image = np.array(Image.open('Image_to_be_encrypted.png').convert(\"RGB\"))\n",
        "width=src_image.shape[1]\n",
        "height=src_image.shape[0]\n",
        "print('Input Image Dimension = ',src_image.shape[1])\n",
        "display(Image.open('Image_to_be_encrypted.png'))\n",
        "#input source\n",
        "\n",
        "\n",
        "# start time\n",
        "start = time.time()\n",
        "\n",
        "#generating a key for encryption and decryption\n",
        "key= np.random.randint(2, size=(height*3, height*3))\n",
        "print('Key Dimension = ',key.shape)\n",
        "\n",
        "\n",
        "#original 3d array of image is now reshaped into 2d\n",
        "reshaped=src_image.reshape(height*3,width)\n",
        "print('Reshaped 2D Input Image Dimension = ',reshaped.shape)\n",
        "\n",
        "#encrypt_2d is a result of multiplying key matrix(randomly generated) and the reshaped input array\n",
        "encrypt_2d=key.dot(reshaped)\n",
        "\n",
        "#the true encrypted matrix , corresponds to encrypted image\n",
        "encrypt=encrypt_2d.reshape(height,width,3)\n",
        "\n",
        "#save the image\n",
        "save_image=Image.fromarray((encrypt * 255).astype(np.uint8))\n",
        "save_image.save('m_encrypt.png')\n",
        "display(save_image)\n",
        "\n",
        "#encrypted image saved as m_encrypt.png\n",
        "\n",
        "# Decrypt the image\n",
        "#reshape the encrypted matrix to 2D array/2D matrix\n",
        "#kinda reverse engineering\n",
        "\n",
        "decrypt_2d=encrypt.reshape(height*3,width)\n",
        "print('Decrypted 2D Image Dimension = ',reshaped.shape)\n",
        "\n",
        "#take inverse of the initially generated key matrix\n",
        "key_inverse=np.linalg.inv(key)\n",
        "\n",
        "#multiply the inverse of the key to reshaped encrypted matrix\n",
        "#again a transformation , think about the key matrix like a function\n",
        "decrypted_2d=key_inverse.dot(decrypt_2d)\n",
        "\n",
        "decrypted=decrypted_2d.reshape(height,width,3)\n",
        "print('Decrypted Image Dimension = ',decrypted.shape)\n",
        "\n",
        "# end time\n",
        "end = time.time()\n",
        "\n",
        "#final touch up\n",
        "decrypted=decrypted.astype(np.uint8)\n",
        "\n",
        "# save the decrypted image\n",
        "save_image=Image.fromarray(decrypted)\n",
        "save_image.save('m_decrypt.png')\n",
        "display(Image.open('m_decrypt.png'))\n",
        "#decryption done\n",
        "\n",
        "print('Time : ',round(end - start,4))"
      ]
    }
  ],
  "metadata": {
    "colab": {
      "collapsed_sections": [],
      "name": "Image_cyptro.ipynb",
      "provenance": []
    },
    "kernelspec": {
      "display_name": "Python 3",
      "name": "python3"
    },
    "language_info": {
      "name": "python"
    }
  },
  "nbformat": 4,
  "nbformat_minor": 0
}